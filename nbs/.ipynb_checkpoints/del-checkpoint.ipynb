{
 "cells": [
  {
   "cell_type": "code",
   "execution_count": 1,
   "metadata": {},
   "outputs": [],
   "source": [
    "NODES = 20"
   ]
  },
  {
   "cell_type": "code",
   "execution_count": 2,
   "metadata": {},
   "outputs": [],
   "source": [
    "def make_node(measurements, true, cov, rho=0.95, tau=5, u=5):\n",
    "    _, xk, P, _, _, _, _, H, F, Q, N = init_all()\n",
    "    U = cov * (u - 3)\n",
    "    nd = node_factory(xk, P, u, U, F, Q, H, rho, tau,\n",
    "                      observe_factory(measurements.T), 10)\n",
    "    return nd"
   ]
  },
  {
   "cell_type": "code",
   "execution_count": null,
   "metadata": {},
   "outputs": [],
   "source": []
  },
  {
   "cell_type": "code",
   "execution_count": null,
   "metadata": {},
   "outputs": [],
   "source": [
    "def make_simple_nodes(n=5, iterations=10, traj=None, noise_modifier=None):\n",
    "    if not noise_modifier:\n",
    "        noise_modifier = lambda _: 10\n",
    "    nodes = []\n",
    "    for i in range(n):\n",
    "        traj2, xk, P, tau, rho, u, U, H, F, Q, N = common.init_all(traj)\n",
    "        np.random.seed(i)\n",
    "        traj2.Y = traj2.Y + (np.random.normal(size=traj2.Y.shape) * noise_modifier(traj2.Y.shape))\n",
    "        nd = node_factory(xk, P, u, U, F, Q, H, rho, tau, observe_factory(traj2.Y.T.copy()), iterations)\n",
    "        nodes.append(nd)\n",
    "    return nodes"
   ]
  }
 ],
 "metadata": {
  "kernelspec": {
   "display_name": "kalman",
   "language": "python",
   "name": "kalman"
  },
  "language_info": {
   "codemirror_mode": {
    "name": "ipython",
    "version": 3
   },
   "file_extension": ".py",
   "mimetype": "text/x-python",
   "name": "python",
   "nbconvert_exporter": "python",
   "pygments_lexer": "ipython3",
   "version": "3.6.4"
  }
 },
 "nbformat": 4,
 "nbformat_minor": 2
}
