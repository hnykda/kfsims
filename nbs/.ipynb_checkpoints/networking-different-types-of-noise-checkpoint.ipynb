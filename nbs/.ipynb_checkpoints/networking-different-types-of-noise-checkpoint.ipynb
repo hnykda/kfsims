{
 "cells": [
  {
   "cell_type": "code",
   "execution_count": 1,
   "metadata": {},
   "outputs": [],
   "source": [
    "%load_ext autoreload\n",
    "%autoreload 2"
   ]
  },
  {
   "cell_type": "code",
   "execution_count": 2,
   "metadata": {},
   "outputs": [],
   "source": [
    "from kfsims.network import create_network, update_nodes_neighbors_cluster\n",
    "from kfsims.common import init_trajectory\n",
    "import numpy as np\n",
    "import matplotlib.pylab as plt\n",
    "%matplotlib inline"
   ]
  },
  {
   "cell_type": "code",
   "execution_count": 3,
   "metadata": {},
   "outputs": [],
   "source": [
    "traj = init_trajectory()"
   ]
  },
  {
   "cell_type": "code",
   "execution_count": 4,
   "metadata": {},
   "outputs": [],
   "source": [
    "NODES = 20\n",
    "ITERATIONS = 10"
   ]
  },
  {
   "cell_type": "code",
   "execution_count": 5,
   "metadata": {},
   "outputs": [],
   "source": [
    "def sinuses(shp, sin_halves=5):\n",
    "    N = shp[1]\n",
    "    xs = [np.pi * (sin_halves*i/N) for i in range(N)]\n",
    "    a = np.sin(xs) * 5\n",
    "    return np.array([a,a])\n",
    "\n",
    "def gen_sin(mult):\n",
    "    def sinuses(shp, sin_halves=5):\n",
    "        N = shp[1]\n",
    "        xs = [np.pi * (sin_halves*i/N) for i in range(N)]\n",
    "        a = np.sin(xs) * mult\n",
    "        return np.array([a,a])\n",
    "    return sinuses\n",
    "    \n",
    "\n",
    "def simple_mult(mult):\n",
    "    return lambda _: mult"
   ]
  },
  {
   "cell_type": "code",
   "execution_count": 6,
   "metadata": {},
   "outputs": [],
   "source": [
    "def no_fusion_all_at_once(nm=None):\n",
    "    # all at once, should be approx. same as the above\n",
    "    # just a sanity check that the the step by step works\n",
    "    # as expected since it's needed in diffusion\n",
    "    net = create_network(NODES, iterations=ITERATIONS, noise_modifier=nm)\n",
    "    rmses = []\n",
    "    for node in net.nodes:\n",
    "        node()\n",
    "        rmses.append(node.post_rmse(traj.X))\n",
    "    return np.mean(rmses, axis=0).round(3)"
   ]
  },
  {
   "cell_type": "code",
   "execution_count": 7,
   "metadata": {},
   "outputs": [],
   "source": [
    "def simple_diffusion(nm=None):\n",
    "    net = create_network(NODES, 5, ITERATIONS, noise_modifier=nm)\n",
    "    msrms = {node: (i for i in node.observe()) for node in net}\n",
    "    rmses = []\n",
    "    for i in range(traj.X.shape[1]):\n",
    "\n",
    "        # proveď jeden KF loop pro každý node\n",
    "        for node, ms in msrms.items():\n",
    "            m = next(ms)\n",
    "            node.single_kf(m)\n",
    "\n",
    "        # každému nodu přiřaď průměr hyperparametrů od všech sousedů\n",
    "        in_queue = set(net)\n",
    "        while in_queue:\n",
    "            in_queue -= update_nodes_neighbors_cluster(net, in_queue.pop())\n",
    "\n",
    "    for node in net:\n",
    "        rmses.append(node.post_rmse(traj.X))\n",
    "    return np.mean(rmses, axis=0).round(3)"
   ]
  },
  {
   "cell_type": "code",
   "execution_count": 8,
   "metadata": {},
   "outputs": [],
   "source": [
    "def single_comp(f, i):\n",
    "    ndiff = no_fusion_all_at_once(nm=f(i))\n",
    "    sdiff = simple_diffusion(nm=f(i))\n",
    "    dif = ndiff-sdiff\n",
    "    mn = round(np.mean(dif), 3)\n",
    "    rel_mn = dif / ndiff\n",
    "    return dif, round(np.mean(dif), 3), round(np.mean(rel_mn), 3)"
   ]
  },
  {
   "cell_type": "code",
   "execution_count": 9,
   "metadata": {},
   "outputs": [],
   "source": [
    "def compare(f):\n",
    "    res = []\n",
    "    for i in [1, 3, 5, 7, 10, 20]:\n",
    "        r = single_comp(f, i)\n",
    "        res.append(r)\n",
    "        print(r)\n",
    "    return res"
   ]
  },
  {
   "cell_type": "code",
   "execution_count": 10,
   "metadata": {},
   "outputs": [
    {
     "name": "stdout",
     "output_type": "stream",
     "text": [
      "(array([0.002, 0.001, 0.002, 0.002]), 0.002, 0.002)\n",
      "(array([0.008, 0.008, 0.013, 0.01 ]), 0.01, 0.007)\n",
      "(array([0.014, 0.017, 0.023, 0.023]), 0.019, 0.012)\n",
      "(array([0.037, 0.046, 0.049, 0.068]), 0.05, 0.026)\n",
      "(array([0.151, 0.151, 0.172, 0.193]), 0.167, 0.07)\n",
      "(array([0.245, 0.136, 0.16 , 0.183]), 0.181, 0.051)\n"
     ]
    },
    {
     "data": {
      "text/plain": [
       "[(array([0.002, 0.001, 0.002, 0.002]), 0.002, 0.002),\n",
       " (array([0.008, 0.008, 0.013, 0.01 ]), 0.01, 0.007),\n",
       " (array([0.014, 0.017, 0.023, 0.023]), 0.019, 0.012),\n",
       " (array([0.037, 0.046, 0.049, 0.068]), 0.05, 0.026),\n",
       " (array([0.151, 0.151, 0.172, 0.193]), 0.167, 0.07),\n",
       " (array([0.245, 0.136, 0.16 , 0.183]), 0.181, 0.051)]"
      ]
     },
     "execution_count": 10,
     "metadata": {},
     "output_type": "execute_result"
    }
   ],
   "source": [
    "compare(simple_mult)"
   ]
  },
  {
   "cell_type": "code",
   "execution_count": 11,
   "metadata": {},
   "outputs": [
    {
     "name": "stdout",
     "output_type": "stream",
     "text": [
      "(array([0.001, 0.   , 0.001, 0.   ]), 0.0, 0.0)\n",
      "(array([0.009, 0.005, 0.01 , 0.008]), 0.008, 0.007)\n",
      "(array([0.027, 0.028, 0.026, 0.031]), 0.028, 0.02)\n",
      "(array([0.072, 0.06 , 0.062, 0.061]), 0.064, 0.038)\n",
      "(array([0.179, 0.162, 0.132, 0.134]), 0.152, 0.073)\n",
      "(array([0.837, 0.836, 0.521, 0.576]), 0.692, 0.204)\n"
     ]
    },
    {
     "data": {
      "text/plain": [
       "[(array([0.001, 0.   , 0.001, 0.   ]), 0.0, 0.0),\n",
       " (array([0.009, 0.005, 0.01 , 0.008]), 0.008, 0.007),\n",
       " (array([0.027, 0.028, 0.026, 0.031]), 0.028, 0.02),\n",
       " (array([0.072, 0.06 , 0.062, 0.061]), 0.064, 0.038),\n",
       " (array([0.179, 0.162, 0.132, 0.134]), 0.152, 0.073),\n",
       " (array([0.837, 0.836, 0.521, 0.576]), 0.692, 0.204)]"
      ]
     },
     "execution_count": 11,
     "metadata": {},
     "output_type": "execute_result"
    }
   ],
   "source": [
    "compare(gen_sin)"
   ]
  },
  {
   "cell_type": "code",
   "execution_count": null,
   "metadata": {},
   "outputs": [],
   "source": []
  }
 ],
 "metadata": {
  "kernelspec": {
   "display_name": "kalman",
   "language": "python",
   "name": "kalman"
  },
  "language_info": {
   "codemirror_mode": {
    "name": "ipython",
    "version": 3
   },
   "file_extension": ".py",
   "mimetype": "text/x-python",
   "name": "python",
   "nbconvert_exporter": "python",
   "pygments_lexer": "ipython3",
   "version": "3.6.4"
  }
 },
 "nbformat": 4,
 "nbformat_minor": 2
}
