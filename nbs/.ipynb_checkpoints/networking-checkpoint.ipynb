{
 "cells": [
  {
   "cell_type": "code",
   "execution_count": 134,
   "metadata": {},
   "outputs": [
    {
     "name": "stdout",
     "output_type": "stream",
     "text": [
      "The autoreload extension is already loaded. To reload it, use:\n",
      "  %reload_ext autoreload\n"
     ]
    }
   ],
   "source": [
    "%load_ext autoreload\n",
    "%autoreload 2"
   ]
  },
  {
   "cell_type": "code",
   "execution_count": 135,
   "metadata": {},
   "outputs": [],
   "source": [
    "from kfsims.network import create_network, update_nodes_neighbors_cluster\n",
    "from kfsims.common import init_trajectory\n",
    "import numpy as np"
   ]
  },
  {
   "cell_type": "code",
   "execution_count": 136,
   "metadata": {},
   "outputs": [],
   "source": [
    "traj = init_trajectory()"
   ]
  },
  {
   "cell_type": "code",
   "execution_count": 137,
   "metadata": {},
   "outputs": [],
   "source": [
    "NODES = 10\n",
    "ITERATIONS = 10"
   ]
  },
  {
   "cell_type": "markdown",
   "metadata": {},
   "source": [
    "# No fusion"
   ]
  },
  {
   "cell_type": "code",
   "execution_count": 138,
   "metadata": {},
   "outputs": [],
   "source": [
    "# no fusion\n",
    "def no_fusion_step_by_step(nodes=NODES, its=ITERATIONS):\n",
    "    net = create_network(nodes, iterations=its)\n",
    "    msrms = {node: (i for i in node.observe()) for node in net}\n",
    "    rmses = []\n",
    "    for i in range(traj.X.shape[1]):\n",
    "        for node, ms in msrms.items():\n",
    "            m = next(ms)\n",
    "            node.single_kf(m)\n",
    "    for node in net:\n",
    "        rmses.append(node.post_rmse(traj.X))\n",
    "    return round(np.mean(rmses), 3)"
   ]
  },
  {
   "cell_type": "code",
   "execution_count": 139,
   "metadata": {},
   "outputs": [
    {
     "data": {
      "text/plain": [
       "2.682"
      ]
     },
     "execution_count": 139,
     "metadata": {},
     "output_type": "execute_result"
    }
   ],
   "source": [
    "no_fusion_step_by_step()"
   ]
  },
  {
   "cell_type": "code",
   "execution_count": 140,
   "metadata": {},
   "outputs": [],
   "source": [
    "#for i in [1, 2, 5, 7, 10, 15, 20, 25, 26, 27, 28, 30, 50, 100]:\n",
    "#    for no in [7, 10, 15, 20, 25, 26, 27, 28, 30, 50, 100]:\n",
    "#        try:\n",
    "#            print (no, i, no_fusion_step_by_step(no, i))\n",
    "#        except:\n",
    "#            pass\n",
    "    #no_fusion_step_by_step()"
   ]
  },
  {
   "cell_type": "code",
   "execution_count": 141,
   "metadata": {},
   "outputs": [],
   "source": [
    "#for i in [5, 10, 20, 50, 100]:\n",
    "#    print(i, no_fusion_step_by_step(NODES, i))\n",
    "#no_fusion_step_by_step()"
   ]
  },
  {
   "cell_type": "code",
   "execution_count": 142,
   "metadata": {},
   "outputs": [],
   "source": [
    "def no_fusion_all_at_once():\n",
    "    # all at once, should be approx. same as the above\n",
    "    # just a sanity check that the the step by step works\n",
    "    # as expected since it's needed in diffusion\n",
    "    net = create_network(NODES, iterations=ITERATIONS)\n",
    "    rmses = []\n",
    "    for node in net.nodes:\n",
    "        node()\n",
    "        rmses.append(node.post_rmse(traj.X))\n",
    "    return round(np.mean(rmses), 3)"
   ]
  },
  {
   "cell_type": "code",
   "execution_count": 143,
   "metadata": {},
   "outputs": [
    {
     "data": {
      "text/plain": [
       "2.682"
      ]
     },
     "execution_count": 143,
     "metadata": {},
     "output_type": "execute_result"
    }
   ],
   "source": [
    "no_fusion_all_at_once()"
   ]
  },
  {
   "cell_type": "markdown",
   "metadata": {},
   "source": [
    "# Simple diffusion "
   ]
  },
  {
   "cell_type": "code",
   "execution_count": 144,
   "metadata": {},
   "outputs": [],
   "source": [
    "def simple_diffusion():\n",
    "    net = create_network(NODES, 5, ITERATIONS)\n",
    "    msrms = {node: (i for i in node.observe()) for node in net}\n",
    "    rmses = []\n",
    "    for i in range(traj.X.shape[1]):\n",
    "\n",
    "        # proveď jeden KF loop pro každý node\n",
    "        for node, ms in msrms.items():\n",
    "            m = next(ms)\n",
    "            node.single_kf(m)\n",
    "\n",
    "        # každému nodu přiřaď průměr hyperparametrů od všech sousedů\n",
    "        in_queue = set(net)\n",
    "        while in_queue:\n",
    "            in_queue -= update_nodes_neighbors_cluster(net, in_queue.pop())\n",
    "\n",
    "    for node in net:\n",
    "        rmses.append(node.post_rmse(traj.X))\n",
    "    return round(np.mean(rmses), 3)"
   ]
  },
  {
   "cell_type": "code",
   "execution_count": 145,
   "metadata": {},
   "outputs": [
    {
     "data": {
      "text/plain": [
       "2.382"
      ]
     },
     "execution_count": 145,
     "metadata": {},
     "output_type": "execute_result"
    }
   ],
   "source": [
    "simple_diffusion()"
   ]
  },
  {
   "cell_type": "code",
   "execution_count": null,
   "metadata": {},
   "outputs": [],
   "source": []
  }
 ],
 "metadata": {
  "kernelspec": {
   "display_name": "kalman",
   "language": "python",
   "name": "kalman"
  },
  "language_info": {
   "codemirror_mode": {
    "name": "ipython",
    "version": 3
   },
   "file_extension": ".py",
   "mimetype": "text/x-python",
   "name": "python",
   "nbconvert_exporter": "python",
   "pygments_lexer": "ipython3",
   "version": "3.6.4"
  }
 },
 "nbformat": 4,
 "nbformat_minor": 2
}
