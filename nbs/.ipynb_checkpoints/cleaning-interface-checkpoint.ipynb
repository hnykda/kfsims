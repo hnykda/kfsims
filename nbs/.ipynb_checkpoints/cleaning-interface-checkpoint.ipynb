{
 "cells": [
  {
   "cell_type": "code",
   "execution_count": 1,
   "metadata": {},
   "outputs": [],
   "source": [
    "%load_ext autoreload\n",
    "%autoreload 2\n",
    "%matplotlib inline"
   ]
  },
  {
   "cell_type": "code",
   "execution_count": null,
   "metadata": {},
   "outputs": [],
   "source": [
    "F = \n",
    "H = \n",
    "Q = \n",
    "P = \n",
    "x = \n",
    "\n",
    "\n",
    "R/U/u/cov"
   ]
  },
  {
   "cell_type": "code",
   "execution_count": 2,
   "metadata": {},
   "outputs": [],
   "source": [
    "_, xk, P, tau, _, _, _, H, F, Q, N = init_all()"
   ]
  },
  {
   "cell_type": "code",
   "execution_count": 13,
   "metadata": {},
   "outputs": [],
   "source": [
    "RMSE_START=0"
   ]
  },
  {
   "cell_type": "code",
   "execution_count": 20,
   "metadata": {},
   "outputs": [],
   "source": [
    "from kfsims.common import init_trajectory, init_all\n",
    "from kfsims.node import node_factory\n",
    "\n",
    "def daniels_variant(measurements, true, cov, rho=0.95, u=5):\n",
    "    iterations = 10\n",
    "    _, xk, P, tau, _, _, _, H, F, Q, N = init_all()\n",
    "    \n",
    "    U = cov * (u - 3)\n",
    "    nd = node_factory(xk, P, u, U, F, Q, H, rho, tau, \n",
    "                      observe_factory(measurements.T), iterations)\n",
    "    nd()\n",
    "    preds = np.array(nd.logger['x']).squeeze()\n",
    "    return preds, nd.post_rmse(true.T, start_element=RMSE_START)\n",
    "\n",
    "from filterpy.kalman import KalmanFilter\n",
    "from filterpy.common import Q_discrete_white_noise\n",
    "from kfsims.node import observe_factory\n",
    "\n",
    "def classic_kf(traj, measurements, true, cov):\n",
    "    my_filter = KalmanFilter(dim_x=4, dim_z=2)    \n",
    "    my_filter.x = np.array([[0],[0],[1],[1]])\n",
    "    my_filter.F = traj.A\n",
    "    my_filter.H = traj.H\n",
    "    my_filter.P = 100 * np.eye(4)\n",
    "    \n",
    "    my_filter.R = cov\n",
    "    my_filter.Q = traj.Q\n",
    "    \n",
    "    rec = []\n",
    "    for zk in observe_factory(measurements.T)():\n",
    "        my_filter.predict()\n",
    "        my_filter.update(zk)\n",
    "        x = my_filter.x\n",
    "        rec.append(x)\n",
    "\n",
    "    preds = np.array(rec)[:, :, 0]\n",
    "    return preds, np.mean(np.sqrt((preds[RMSE_START:] - true[RMSE_START:]) ** 2), axis=0)"
   ]
  },
  {
   "cell_type": "code",
   "execution_count": 21,
   "metadata": {},
   "outputs": [],
   "source": [
    "import numpy as np\n",
    "from utils import static_noise\n",
    "\n",
    "trj = init_trajectory()\n",
    "true_traj = trj.X.T\n",
    "cov_traj = trj.R\n",
    "\n",
    "np.random.seed(10)\n",
    "n_static = static_noise(300, mod=4)\n",
    "cov_init = np.cov(n_static.T) + cov_traj\n",
    "msrms = trj.Y + n_static.T"
   ]
  },
  {
   "cell_type": "code",
   "execution_count": 22,
   "metadata": {},
   "outputs": [
    {
     "data": {
      "text/plain": [
       "(array([[  1.43141218,   4.83080316,   1.13195394,   1.46886165],\n",
       "        [ -1.5864552 ,   2.10973319,  -4.43675534,  -3.63190286],\n",
       "        [  2.14876297,   2.46480422,   8.19226155,  -1.46124841],\n",
       "        ...,\n",
       "        [-24.94300949, -77.13410123,  -3.54115018,  -5.41640455],\n",
       "        [-25.77820101, -77.15532258,  -4.02142589,  -4.89685173],\n",
       "        [-25.80773258, -77.25650865,  -3.64943511,  -4.50899932]]),\n",
       " array([1.02624563, 0.84249787, 1.12135142, 1.07264484]))"
      ]
     },
     "execution_count": 22,
     "metadata": {},
     "output_type": "execute_result"
    }
   ],
   "source": [
    "classic_kf(trj, msrms, true_traj, cov_traj)"
   ]
  },
  {
   "cell_type": "code",
   "execution_count": null,
   "metadata": {},
   "outputs": [],
   "source": [
    "    def _kf_classic_iterator(self, init_P, init_cov):\n",
    "        my_filter = KalmanFilter(dim_x=self.P_prior.psi.shape[0],\n",
    "                                 dim_z=self.R_prior.psi.shape[0])\n",
    "        my_filter.x = self.last_state.reshape((4, 1))\n",
    "        my_filter.F = self.F\n",
    "        my_filter.H = self.H\n",
    "        my_filter.Q = self.Q\n",
    "        my_filter.P = init_P\n",
    "\n",
    "        my_filter.R = init_cov\n",
    "\n",
    "        for i, measurement in enumerate(self.observe()):\n",
    "            my_filter.predict()\n",
    "            my_filter.update(measurement)\n",
    "            x = my_filter.x\n",
    "            P = my_filter.P\n",
    "            yield x, P"
   ]
  }
 ],
 "metadata": {
  "kernelspec": {
   "display_name": "kalman",
   "language": "python",
   "name": "kalman"
  },
  "language_info": {
   "codemirror_mode": {
    "name": "ipython",
    "version": 3
   },
   "file_extension": ".py",
   "mimetype": "text/x-python",
   "name": "python",
   "nbconvert_exporter": "python",
   "pygments_lexer": "ipython3",
   "version": "3.6.4"
  }
 },
 "nbformat": 4,
 "nbformat_minor": 2
}
