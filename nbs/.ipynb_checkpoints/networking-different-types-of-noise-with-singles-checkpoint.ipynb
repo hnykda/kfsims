{
 "cells": [
  {
   "cell_type": "code",
   "execution_count": 1,
   "metadata": {},
   "outputs": [],
   "source": [
    "%load_ext autoreload\n",
    "%autoreload 2"
   ]
  },
  {
   "cell_type": "code",
   "execution_count": 2,
   "metadata": {},
   "outputs": [],
   "source": [
    "from kfsims.network import create_network, update_nodes_neighbors_cluster\n",
    "from kfsims.common import init_trajectory\n",
    "import numpy as np\n",
    "import matplotlib.pylab as plt\n",
    "%matplotlib inline"
   ]
  },
  {
   "cell_type": "code",
   "execution_count": 3,
   "metadata": {},
   "outputs": [],
   "source": [
    "traj = init_trajectory()"
   ]
  },
  {
   "cell_type": "code",
   "execution_count": 4,
   "metadata": {},
   "outputs": [],
   "source": [
    "NODES = 14\n",
    "ITERATIONS = 10"
   ]
  },
  {
   "cell_type": "code",
   "execution_count": 5,
   "metadata": {},
   "outputs": [],
   "source": [
    "def shifted_sinus(shp, sin_halves=5, shift=1):\n",
    "    N=shp[1]\n",
    "    a = np.array(shift + np.sin([np.pi * (sin_halves*i/N) for i in range(N)]) * 5)\n",
    "    return np.array([a,a])\n",
    "\n",
    "def rising_sinus(shp, sin_halves=5, shift=0):\n",
    "    N = shp[1]\n",
    "    np.random.seed(10)\n",
    "    #a = shift + np.sin([np.pi * (sin_halves*i/N) for i in range(N)]) + np.linspace(0, 2, N)  # good for me\n",
    "    a = shift + np.sin([np.pi * (sin_halves*i/N) for i in range(N)])*15 + np.linspace(0, 5, N) \n",
    "    return np.array([a,a])\n",
    "\n",
    "#noise_modifier = shifted_sinus(300)\n",
    "noise_modifier = rising_sinus((None,300))"
   ]
  },
  {
   "cell_type": "markdown",
   "metadata": {},
   "source": [
    "# No fusion"
   ]
  },
  {
   "cell_type": "code",
   "execution_count": 6,
   "metadata": {},
   "outputs": [],
   "source": [
    "def no_fusion_all_at_once(nm=None):\n",
    "    # all at once, should be approx. same as the above\n",
    "    # just a sanity check that the the step by step works\n",
    "    # as expected since it's needed in diffusion\n",
    "    net = create_network(NODES, iterations=ITERATIONS, noise_modifier=nm)\n",
    "    rmses = []\n",
    "    for node in net.nodes:\n",
    "        node()\n",
    "        rmses.append(node.post_rmse(traj.X))\n",
    "    return np.mean(rmses, axis=0).round(3)"
   ]
  },
  {
   "cell_type": "code",
   "execution_count": 14,
   "metadata": {},
   "outputs": [
    {
     "data": {
      "text/plain": [
       "array([0.954, 0.87 , 1.205, 1.17 ])"
      ]
     },
     "execution_count": 14,
     "metadata": {},
     "output_type": "execute_result"
    }
   ],
   "source": [
    "# no noise\n",
    "no_fusion_all_at_once(nm=None)"
   ]
  },
  {
   "cell_type": "code",
   "execution_count": 15,
   "metadata": {},
   "outputs": [
    {
     "data": {
      "text/plain": [
       "array([1.538, 1.477, 1.524, 1.461])"
      ]
     },
     "execution_count": 15,
     "metadata": {},
     "output_type": "execute_result"
    }
   ],
   "source": [
    "no_fusion_all_at_once(nm=shifted_sinus)"
   ]
  },
  {
   "cell_type": "code",
   "execution_count": 16,
   "metadata": {},
   "outputs": [
    {
     "data": {
      "text/plain": [
       "array([3.718, 3.81 , 2.513, 2.45 ])"
      ]
     },
     "execution_count": 16,
     "metadata": {},
     "output_type": "execute_result"
    }
   ],
   "source": [
    "no_fusion_all_at_once(nm=rising_sinus)"
   ]
  },
  {
   "cell_type": "markdown",
   "metadata": {},
   "source": [
    "# Simple diffusion "
   ]
  },
  {
   "cell_type": "code",
   "execution_count": 17,
   "metadata": {},
   "outputs": [],
   "source": [
    "def simple_diffusion(nm=None):\n",
    "    net = create_network(NODES, 5, ITERATIONS, noise_modifier=nm)\n",
    "    msrms = {node: (i for i in node.observe()) for node in net}\n",
    "    rmses = []\n",
    "    for i in range(traj.X.shape[1]):\n",
    "\n",
    "        # proveď jeden KF loop pro každý node\n",
    "        for node, ms in msrms.items():\n",
    "            m = next(ms)\n",
    "            node.single_kf(m)\n",
    "\n",
    "        # každému nodu přiřaď průměr hyperparametrů od všech sousedů\n",
    "        in_queue = set(net)\n",
    "        while in_queue:\n",
    "            in_queue -= update_nodes_neighbors_cluster(net, in_queue.pop())\n",
    "\n",
    "    for node in net:\n",
    "        rmses.append(node.post_rmse(traj.X))\n",
    "    return np.mean(rmses, axis=0).round(3)"
   ]
  },
  {
   "cell_type": "code",
   "execution_count": 18,
   "metadata": {},
   "outputs": [
    {
     "data": {
      "text/plain": [
       "array([0.952, 0.869, 1.201, 1.168])"
      ]
     },
     "execution_count": 18,
     "metadata": {},
     "output_type": "execute_result"
    }
   ],
   "source": [
    "simple_diffusion(nm=None)"
   ]
  },
  {
   "cell_type": "code",
   "execution_count": 19,
   "metadata": {},
   "outputs": [
    {
     "data": {
      "text/plain": [
       "array([1.511, 1.444, 1.496, 1.425])"
      ]
     },
     "execution_count": 19,
     "metadata": {},
     "output_type": "execute_result"
    }
   ],
   "source": [
    "simple_diffusion(nm=shifted_sinus)"
   ]
  },
  {
   "cell_type": "code",
   "execution_count": 20,
   "metadata": {},
   "outputs": [
    {
     "data": {
      "text/plain": [
       "array([3.051, 3.15 , 2.106, 2.   ])"
      ]
     },
     "execution_count": 20,
     "metadata": {},
     "output_type": "execute_result"
    }
   ],
   "source": [
    "simple_diffusion(nm=rising_sinus)"
   ]
  },
  {
   "cell_type": "code",
   "execution_count": 73,
   "metadata": {},
   "outputs": [],
   "source": [
    "from kfsims import common\n",
    "from kfsims.node import node_factory, observe_factory\n",
    "RMSE_START=20"
   ]
  },
  {
   "cell_type": "code",
   "execution_count": 81,
   "metadata": {},
   "outputs": [],
   "source": [
    "def daniels_variant(measurements, true):\n",
    "    iterations = 10\n",
    "    _, xk, P, tau, rho, u, U, H, F, Q, N = common.init_all()\n",
    "    nd = node_factory(xk, P, u, U, F, Q, H, rho, tau, observe_factory(measurements.T), iterations)\n",
    "    nd()\n",
    "    preds = np.array(nd.logger['x']).squeeze()\n",
    "    return preds, nd.post_rmse(true.T, 0)"
   ]
  },
  {
   "cell_type": "code",
   "execution_count": 116,
   "metadata": {},
   "outputs": [],
   "source": [
    "np.random.seed(0)"
   ]
  },
  {
   "cell_type": "code",
   "execution_count": 123,
   "metadata": {},
   "outputs": [
    {
     "name": "stdout",
     "output_type": "stream",
     "text": [
      "<Node: 08312>\n",
      "<Node: 52648>\n",
      "<Node: 51976>\n",
      "<Node: 51752>\n",
      "<Node: 52032>\n",
      "<Node: 74584>\n",
      "<Node: 76880>\n",
      "<Node: 12968>\n",
      "<Node: 82824>\n",
      "<Node: 09088>\n",
      "<Node: 08976>\n",
      "<Node: 54872>\n",
      "<Node: 54648>\n",
      "<Node: 54704>\n"
     ]
    }
   ],
   "source": [
    "net = create_network(14, 5, ITERATIONS, noise_modifier=rising_sinus)"
   ]
  },
  {
   "cell_type": "code",
   "execution_count": 128,
   "metadata": {},
   "outputs": [],
   "source": [
    "s = list(net.nodes)[-3]"
   ]
  },
  {
   "cell_type": "code",
   "execution_count": 129,
   "metadata": {},
   "outputs": [],
   "source": [
    "p = list(s.observe())"
   ]
  },
  {
   "cell_type": "code",
   "execution_count": 130,
   "metadata": {},
   "outputs": [],
   "source": [
    "import matplotlib.pylab as plt"
   ]
  },
  {
   "cell_type": "code",
   "execution_count": 138,
   "metadata": {},
   "outputs": [],
   "source": [
    "np.random.seed(0)\n",
    "ps = traj.Y + np.random.normal(size=traj.Y.shape) * noise_modifier"
   ]
  },
  {
   "cell_type": "code",
   "execution_count": 140,
   "metadata": {},
   "outputs": [
    {
     "data": {
      "text/plain": [
       "<matplotlib.legend.Legend at 0x7f135b12cc50>"
      ]
     },
     "execution_count": 140,
     "metadata": {},
     "output_type": "execute_result"
    },
    {
     "data": {
      "image/png": "[encoded data removed]",
      "text/plain": [
       "<Figure size 432x288 with 1 Axes>"
      ]
     },
     "metadata": {},
     "output_type": "display_data"
    }
   ],
   "source": [
    "plt.plot(p,label='single-from-net')\n",
    "plt.plot(ps.T, label='nf')\n",
    "plt.legend()"
   ]
  },
  {
   "cell_type": "code",
   "execution_count": 141,
   "metadata": {},
   "outputs": [
    {
     "data": {
      "text/plain": [
       "array([4.67610178, 3.93048426, 2.85908438, 2.40245589])"
      ]
     },
     "execution_count": 141,
     "metadata": {},
     "output_type": "execute_result"
    }
   ],
   "source": [
    "res_dv, rms_dv = daniels_variant(ps, traj.X.T)\n",
    "rms_dv"
   ]
  },
  {
   "cell_type": "code",
   "execution_count": 142,
   "metadata": {},
   "outputs": [
    {
     "data": {
      "text/plain": [
       "array([3.56321612, 3.8754466 , 2.53206836, 2.58792842])"
      ]
     },
     "execution_count": 142,
     "metadata": {},
     "output_type": "execute_result"
    }
   ],
   "source": [
    "res_dv, rms_dv = daniels_variant(np.array(p).T, traj.X.T)\n",
    "rms_dv"
   ]
  },
  {
   "cell_type": "code",
   "execution_count": 143,
   "metadata": {},
   "outputs": [],
   "source": [
    "from filterpy.kalman import KalmanFilter\n",
    "from filterpy.common import Q_discrete_white_noise\n",
    "from kfsims.node import observe_factory\n",
    "\n",
    "def classic_kf(traj, measurements, true):\n",
    "    my_filter = KalmanFilter(dim_x=4, dim_z=2)\n",
    "    \n",
    "    my_filter.x = np.array([[0],[0],[1],[1]])       # initial state (location and velocity)\n",
    "\n",
    "    my_filter.F = traj.A\n",
    "\n",
    "    my_filter.H = traj.H\n",
    "    my_filter.P = 100 * np.eye(4)\n",
    "    my_filter.R = traj.R #np.cov(measurements.T) #traj.R\n",
    "    my_filter.Q = traj.Q\n",
    "    \n",
    "    rec = []\n",
    "    for zk in observe_factory(measurements)():\n",
    "        my_filter.predict()\n",
    "        my_filter.update(zk)\n",
    "\n",
    "        # do something with the output\n",
    "        x = my_filter.x\n",
    "        rec.append(x)\n",
    "    preds = np.array(rec)[:, :, 0]\n",
    "    return preds, np.mean(np.sqrt((preds[RMSE_START:] - true[RMSE_START:]) ** 2), axis=0)"
   ]
  },
  {
   "cell_type": "code",
   "execution_count": 147,
   "metadata": {},
   "outputs": [
    {
     "data": {
      "text/plain": [
       "array([3.24311378, 3.01561266, 2.87469526, 2.50137847])"
      ]
     },
     "execution_count": 147,
     "metadata": {},
     "output_type": "execute_result"
    }
   ],
   "source": [
    "res_kfc, rms_kfc = classic_kf(traj, ps.T, traj.X.T)\n",
    "rms_kfc"
   ]
  },
  {
   "cell_type": "code",
   "execution_count": 149,
   "metadata": {},
   "outputs": [
    {
     "data": {
      "text/plain": [
       "array([2.74334537, 3.04531222, 2.67572133, 3.0034983 ])"
      ]
     },
     "execution_count": 149,
     "metadata": {},
     "output_type": "execute_result"
    }
   ],
   "source": [
    "res_kfc, rms_kfc = classic_kf(traj, np.array(p), traj.X.T)\n",
    "rms_kfc"
   ]
  },
  {
   "cell_type": "code",
   "execution_count": null,
   "metadata": {},
   "outputs": [],
   "source": []
  }
 ],
 "metadata": {
  "kernelspec": {
   "display_name": "kalman",
   "language": "python",
   "name": "kalman"
  },
  "language_info": {
   "codemirror_mode": {
    "name": "ipython",
    "version": 3
   },
   "file_extension": ".py",
   "mimetype": "text/x-python",
   "name": "python",
   "nbconvert_exporter": "python",
   "pygments_lexer": "ipython3",
   "version": "3.6.4"
  }
 },
 "nbformat": 4,
 "nbformat_minor": 2
}
